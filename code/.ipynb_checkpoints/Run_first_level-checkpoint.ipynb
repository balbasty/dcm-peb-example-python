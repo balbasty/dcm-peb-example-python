{
 "cells": [
  {
   "cell_type": "markdown",
   "id": "39cd0ae8-f52b-4f5e-bf2c-a0a71d3911bc",
   "metadata": {},
   "source": [
    "# SPM/DCM/PEB - Run first leve"
   ]
  },
  {
   "cell_type": "markdown",
   "id": "99943c1f-1755-4138-8b80-328a8fc61e84",
   "metadata": {},
   "source": [
    "## Import\n",
    "\n",
    "First, let's import the functions we will use from the spm package, and define a couple of\n",
    "wrappers for the save/load MATLAB builtins."
   ]
  },
  {
   "cell_type": "code",
   "execution_count": 1,
   "id": "c2b6da79-32f1-4f12-b0cf-45b33999e17f",
   "metadata": {},
   "outputs": [],
   "source": [
    "import os\n",
    "import numpy as np\n",
    "from spm import (\n",
    "    Array, Cell, Struct, Runtime,\n",
    "    spm_select, spm_dcm_specify, spm_dcm_load, spm_dcm_fit, spm_dcm_fmri_check\n",
    ")\n",
    "\n",
    "num = np.asarray\n",
    "\n",
    "# Save the field of a (scalar) struct in a .mat file\n",
    "def save(f, x): return Runtime.call(\"save\", f, \"-struct\", x)\n",
    "\n",
    "# Load a .mat into a (scalar) struct\n",
    "def load(*a): return Runtime.call(\"load\", *a)\n",
    "\n",
    "# Change directory in MATLAB\n",
    "def cd(*a): return Runtime.call(\"cd\", *a)"
   ]
  },
  {
   "cell_type": "code",
   "execution_count": 2,
   "id": "d48cc2a6-7785-4f2e-8171-271eac34d455",
   "metadata": {},
   "outputs": [
    {
     "name": "stdout",
     "output_type": "stream",
     "text": [
      "/Users/balbasty/Dropbox/Workspace/code/fil/dcm-peb-example-python/code\n"
     ]
    }
   ],
   "source": [
    "this_dir = start_dir = os.getcwd()\n",
    "print(this_dir)"
   ]
  },
  {
   "cell_type": "markdown",
   "id": "b17787ac-a2b6-41d4-bc81-f4c4663eb709",
   "metadata": {},
   "source": [
    "## Settings"
   ]
  },
  {
   "cell_type": "code",
   "execution_count": 3,
   "id": "c5e1f09b-5264-4673-900f-ae6bd29fe6ba",
   "metadata": {},
   "outputs": [],
   "source": [
    "# MRI scanner settings\n",
    "TR = 3.6   # Repetition time (secs)\n",
    "TE = 0.05  # Echo time (secs)\n",
    "\n",
    "# Experiment settings\n",
    "nsubjects   = 60\n",
    "nregions    = 4\n",
    "nconditions = 3\n",
    "\n",
    "# Index of each condition in the DCM\n",
    "# NOTE: Python uses 0-indexing\n",
    "TASK, PICTURES, WORDS = 0, 1, 2\n",
    "\n",
    "# Index of each region in the DCM\n",
    "# NOTE: Python uses 0-indexing\n",
    "lvF, ldF, rvF, rdF = 0, 1, 2, 3"
   ]
  },
  {
   "cell_type": "markdown",
   "id": "461fd402-4702-4a2b-9410-b67e4bea67ec",
   "metadata": {},
   "source": [
    "## Specify DCMs (one per subject)"
   ]
  },
  {
   "cell_type": "code",
   "execution_count": 4,
   "id": "25769f38-219d-43e1-9dbb-447e004d661f",
   "metadata": {},
   "outputs": [],
   "source": [
    "# A-matrix (on / off)\n",
    "a = np.ones([nregions, nregions])\n",
    "a[lvF, rdF] = 0\n",
    "a[rdF, lvF] = 0\n",
    "a[ldF, rvF] = 0\n",
    "a[rvF, ldF] = 0\n",
    "\n",
    "# B-matrix\n",
    "b = np.zeros([nregions, nregions, 3])\n",
    "b[:, :, TASK]     = np.zeros(nregions)  # Task\n",
    "b[:, :, PICTURES] = np.eye(nregions)    # Pictures\n",
    "b[:, :, WORDS]    = np.eye(nregions)    # Words\n",
    "\n",
    "# C-matrix\n",
    "c = np.zeros([nregions, nconditions])\n",
    "c[:, TASK] = 1\n",
    "\n",
    "# D-matrix (disabled)\n",
    "d = np.zeros([nregions, nregions, 0])"
   ]
  },
  {
   "cell_type": "code",
   "execution_count": 5,
   "id": "6eb9e21b-52fe-40c0-89db-1c5ae624e0da",
   "metadata": {},
   "outputs": [
    {
     "name": "stdout",
     "output_type": "stream",
     "text": [
      "Initializing Matlab Runtime...\n"
     ]
    },
    {
     "name": "stderr",
     "output_type": "stream",
     "text": [
      "WARNING: package sun.awt.X11 not in java.desktop\n",
      "WARNING: package sun.awt.X11 not in java.desktop\n",
      "2025-03-24 18:20:33.323 mwpython[69887:2153632] +[IMKClient subclass]: chose IMKClient_Modern\n",
      "2025-03-24 18:20:33.323 mwpython[69887:2153632] +[IMKInputSession subclass]: chose IMKInputSession_Modern\n",
      "WARNING: An illegal reflective access operation has occurred\n",
      "WARNING: Illegal reflective access by com.mathworks.hg.peer.EventUtilities (file:/Applications/MATLAB/MATLAB_Runtime/R2024b/java/jar/hg.jar) to field java.awt.event.MouseEvent.yAbs\n",
      "WARNING: Please consider reporting this to the maintainers of com.mathworks.hg.peer.EventUtilities\n",
      "WARNING: Use --illegal-access=warn to enable warnings of further illegal reflective access operations\n",
      "WARNING: All illegal access operations will be denied in a future release\n"
     ]
    }
   ],
   "source": [
    "for subject in range(nsubjects):\n",
    "\n",
    "    name = f'sub-{subject+1:02d}'\n",
    "\n",
    "    # Load SPM\n",
    "    glm_dir = os.path.join(this_dir, '..', 'GLM', name)\n",
    "    SPM     = load(os.path.join(glm_dir, 'SPM.mat'))\n",
    "    SPM     = SPM.SPM\n",
    "\n",
    "    # Load ROIs\n",
    "    xY = Struct()\n",
    "    f = [os.path.join(glm_dir, 'VOI_lvF_1.mat'),\n",
    "         os.path.join(glm_dir, 'VOI_ldF_1.mat'),\n",
    "         os.path.join(glm_dir, 'VOI_rvF_1.mat'),\n",
    "         os.path.join(glm_dir, 'VOI_rdF_1.mat')]\n",
    "    for r in range(len(f)):\n",
    "        XY = load(f[r])\n",
    "        xY[r] = XY.xY\n",
    "\n",
    "        # Fix -- otherwise spm_dcm_specify crashes\n",
    "        Ic = int(XY.xY.Ic.item())\n",
    "        SPM.xCon[Ic].c = num([])\n",
    "\n",
    "    if True:\n",
    "        # Move to output directory\n",
    "        cd(glm_dir)\n",
    "\n",
    "        # Select whether to include each condition from the design matrix\n",
    "        # (Task, Pictures, Words)\n",
    "        include = np.ones([3, 1])\n",
    "\n",
    "        # Specify. Corresponds to the series of questions in the GUI.\n",
    "        s = Struct()\n",
    "        s.name       = 'full'\n",
    "        s.u          = include              # Conditions\n",
    "        s.delays     = num([TR]*nregions)   # Slice timing for each region\n",
    "        s.TE         = TE\n",
    "        s.nonlinear  = False\n",
    "        s.two_state  = False\n",
    "        s.stochastic = False\n",
    "        s.centre     = True\n",
    "        s.induced    = 0\n",
    "        s.a          = a\n",
    "        s.b          = b\n",
    "        s.c          = c\n",
    "        s.d          = d\n",
    "        DCM = spm_dcm_specify(SPM, xY, s)\n",
    "\n",
    "        # Return to script directory\n",
    "        cd(start_dir)"
   ]
  },
  {
   "cell_type": "markdown",
   "id": "6ef0f2d0-c395-4cf1-baa2-c47a298d98e9",
   "metadata": {},
   "source": [
    "## Collate into a GCM file and estimate"
   ]
  },
  {
   "cell_type": "code",
   "execution_count": 6,
   "id": "f45f4359-f427-41c7-a442-9835f16e4559",
   "metadata": {},
   "outputs": [
    {
     "name": "stderr",
     "output_type": "stream",
     "text": [
      "Error using load\n",
      "File name is empty.\n",
      "\n",
      "Error in spm_dcm_load (line 25)\n",
      "\n",
      "Error in mpython_endpoint (line 19)\n",
      "\n"
     ]
    },
    {
     "ename": "MatlabRuntimeError",
     "evalue": "An error occurred when evaluating the result from a function. Details: \n  File /Users/balbasty/Library/Application Support/MathWorks/MatlabRuntimeCache/R2024b/_spm_a0/_spm/build/spm/spm_dcm_load.m, line 25, in spm_dcm_load\n\n  File /Users/balbasty/Library/Application Support/MathWorks/MatlabRuntimeCache/R2024b/_spm_a0/_spm/external/mpython/mpython_endpoint.m, line 19, in mpython_endpoint\nFile name is empty.\n",
     "output_type": "error",
     "traceback": [
      "\u001b[0;31m---------------------------------------------------------------------------\u001b[0m",
      "\u001b[0;31mMatlabRuntimeError\u001b[0m                        Traceback (most recent call last)",
      "Cell \u001b[0;32mIn[6], line 26\u001b[0m\n\u001b[1;32m     23\u001b[0m GCM \u001b[38;5;241m=\u001b[39m dcms\n\u001b[1;32m     25\u001b[0m \u001b[38;5;66;03m# Filenames -> DCM structures\u001b[39;00m\n\u001b[0;32m---> 26\u001b[0m GCM \u001b[38;5;241m=\u001b[39m \u001b[43mspm_dcm_load\u001b[49m\u001b[43m(\u001b[49m\u001b[43mGCM\u001b[49m\u001b[43m)\u001b[49m\n\u001b[1;32m     28\u001b[0m \u001b[38;5;66;03m# Estimate DCMs (this won't effect original DCM files)\u001b[39;00m\n\u001b[1;32m     29\u001b[0m GCM \u001b[38;5;241m=\u001b[39m spm_dcm_fit(GCM)\n",
      "File \u001b[0;32m~/Dropbox/Workspace/code/fil/spm-python/spm/spm_dcm_load.py:23\u001b[0m, in \u001b[0;36mspm_dcm_load\u001b[0;34m(*args, **kwargs)\u001b[0m\n\u001b[1;32m      4\u001b[0m \u001b[38;5;28;01mdef\u001b[39;00m\u001b[38;5;250m \u001b[39m\u001b[38;5;21mspm_dcm_load\u001b[39m(\u001b[38;5;241m*\u001b[39margs, \u001b[38;5;241m*\u001b[39m\u001b[38;5;241m*\u001b[39mkwargs):\n\u001b[1;32m      5\u001b[0m \u001b[38;5;250m    \u001b[39m\u001b[38;5;124;03m\"\"\"\u001b[39;00m\n\u001b[1;32m      6\u001b[0m \u001b[38;5;124;03m      Load a cell array of DCM filenames into a subjects x models cell array  \u001b[39;00m\n\u001b[1;32m      7\u001b[0m \u001b[38;5;124;03m        FORMAT DCM = spm_dcm_load(P)  \u001b[39;00m\n\u001b[0;32m   (...)\u001b[0m\n\u001b[1;32m     21\u001b[0m \u001b[38;5;124;03m    Copyright (C) 1995-2025 Functional Imaging Laboratory, Department of Imaging Neuroscience, UCL\u001b[39;00m\n\u001b[1;32m     22\u001b[0m \u001b[38;5;124;03m    \"\"\"\u001b[39;00m\n\u001b[0;32m---> 23\u001b[0m     \u001b[38;5;28;01mreturn\u001b[39;00m \u001b[43mRuntime\u001b[49m\u001b[38;5;241;43m.\u001b[39;49m\u001b[43mcall\u001b[49m\u001b[43m(\u001b[49m\u001b[38;5;124;43m\"\u001b[39;49m\u001b[38;5;124;43mspm_dcm_load\u001b[39;49m\u001b[38;5;124;43m\"\u001b[39;49m\u001b[43m,\u001b[49m\u001b[43m \u001b[49m\u001b[38;5;241;43m*\u001b[39;49m\u001b[43margs\u001b[49m\u001b[43m,\u001b[49m\u001b[43m \u001b[49m\u001b[38;5;241;43m*\u001b[39;49m\u001b[38;5;241;43m*\u001b[39;49m\u001b[43mkwargs\u001b[49m\u001b[43m)\u001b[49m\n",
      "File \u001b[0;32m~/Dropbox/Workspace/code/fil/spm-python/spm/__wrapper__/runtime.py:24\u001b[0m, in \u001b[0;36mRuntime.call\u001b[0;34m(fn, *args, **kwargs)\u001b[0m\n\u001b[1;32m     21\u001b[0m \u001b[38;5;129m@staticmethod\u001b[39m\n\u001b[1;32m     22\u001b[0m \u001b[38;5;28;01mdef\u001b[39;00m\u001b[38;5;250m \u001b[39m\u001b[38;5;21mcall\u001b[39m(fn, \u001b[38;5;241m*\u001b[39margs, \u001b[38;5;241m*\u001b[39m\u001b[38;5;241m*\u001b[39mkwargs):\n\u001b[1;32m     23\u001b[0m     (args, kwargs) \u001b[38;5;241m=\u001b[39m Runtime\u001b[38;5;241m.\u001b[39m_process_argin(\u001b[38;5;241m*\u001b[39margs, \u001b[38;5;241m*\u001b[39m\u001b[38;5;241m*\u001b[39mkwargs)\n\u001b[0;32m---> 24\u001b[0m     res \u001b[38;5;241m=\u001b[39m \u001b[43mRuntime\u001b[49m\u001b[38;5;241;43m.\u001b[39;49m\u001b[43minstance\u001b[49m\u001b[43m(\u001b[49m\u001b[43m)\u001b[49m\u001b[38;5;241;43m.\u001b[39;49m\u001b[43mmpython_endpoint\u001b[49m\u001b[43m(\u001b[49m\u001b[43mfn\u001b[49m\u001b[43m,\u001b[49m\u001b[43m \u001b[49m\u001b[38;5;241;43m*\u001b[39;49m\u001b[43margs\u001b[49m\u001b[43m,\u001b[49m\u001b[43m \u001b[49m\u001b[38;5;241;43m*\u001b[39;49m\u001b[38;5;241;43m*\u001b[39;49m\u001b[43mkwargs\u001b[49m\u001b[43m)\u001b[49m\n\u001b[1;32m     25\u001b[0m     \u001b[38;5;28;01mreturn\u001b[39;00m Runtime\u001b[38;5;241m.\u001b[39m_process_argout(res)\n",
      "File \u001b[0;32m/Applications/MATLAB/MATLAB_Runtime/R2024b/toolbox/compiler_sdk/pysdk_py/matlab_pysdk/runtime/deployablefunc.py:79\u001b[0m, in \u001b[0;36mDeployableFunc.__call__\u001b[0;34m(self, *args, **kwargs)\u001b[0m\n\u001b[1;32m     75\u001b[0m     ret \u001b[38;5;241m=\u001b[39m futureresult\u001b[38;5;241m.\u001b[39mFutureResult(\u001b[38;5;28mself\u001b[39m\u001b[38;5;241m.\u001b[39m_cppext_handle, future_tuple, nlhs, \n\u001b[1;32m     76\u001b[0m         nlhsWasSpecified, stdoutObj, stderrObj)\n\u001b[1;32m     77\u001b[0m \u001b[38;5;28;01melse\u001b[39;00m:\n\u001b[1;32m     78\u001b[0m     ret \u001b[38;5;241m=\u001b[39m \u001b[43mfutureresult\u001b[49m\u001b[38;5;241;43m.\u001b[39;49m\u001b[43mFutureResult\u001b[49m\u001b[43m(\u001b[49m\u001b[38;5;28;43mself\u001b[39;49m\u001b[38;5;241;43m.\u001b[39;49m\u001b[43m_cppext_handle\u001b[49m\u001b[43m,\u001b[49m\u001b[43m \u001b[49m\u001b[43mfuture_tuple\u001b[49m\u001b[43m,\u001b[49m\u001b[43m \u001b[49m\u001b[43mnlhs\u001b[49m\u001b[43m,\u001b[49m\u001b[43m \u001b[49m\n\u001b[0;32m---> 79\u001b[0m \u001b[43m        \u001b[49m\u001b[43mnlhsWasSpecified\u001b[49m\u001b[43m,\u001b[49m\u001b[43m \u001b[49m\u001b[43mstdoutObj\u001b[49m\u001b[43m,\u001b[49m\u001b[43m \u001b[49m\u001b[43mstderrObj\u001b[49m\u001b[43m)\u001b[49m\u001b[38;5;241;43m.\u001b[39;49m\u001b[43mresult\u001b[49m\u001b[43m(\u001b[49m\u001b[43m)\u001b[49m\n\u001b[1;32m     81\u001b[0m \u001b[38;5;28;01mreturn\u001b[39;00m ret\n",
      "File \u001b[0;32m/Applications/MATLAB/MATLAB_Runtime/R2024b/toolbox/compiler_sdk/pysdk_py/matlab_pysdk/runtime/futureresult.py:134\u001b[0m, in \u001b[0;36mFutureResult.result\u001b[0;34m(self, timeout)\u001b[0m\n\u001b[1;32m    132\u001b[0m \u001b[38;5;66;03m# This clause makes the code easier to debug in the case of an exception.\u001b[39;00m\n\u001b[1;32m    133\u001b[0m \u001b[38;5;28;01mexcept\u001b[39;00m \u001b[38;5;167;01mException\u001b[39;00m \u001b[38;5;28;01mas\u001b[39;00m e:\n\u001b[0;32m--> 134\u001b[0m     \u001b[38;5;28;01mraise\u001b[39;00m e\n",
      "File \u001b[0;32m/Applications/MATLAB/MATLAB_Runtime/R2024b/toolbox/compiler_sdk/pysdk_py/matlab_pysdk/runtime/futureresult.py:122\u001b[0m, in \u001b[0;36mFutureResult.result\u001b[0;34m(self, timeout)\u001b[0m\n\u001b[1;32m    120\u001b[0m \u001b[38;5;66;03m# This clause makes the code easier to debug in the case of an exception.\u001b[39;00m\n\u001b[1;32m    121\u001b[0m \u001b[38;5;28;01mexcept\u001b[39;00m \u001b[38;5;167;01mException\u001b[39;00m \u001b[38;5;28;01mas\u001b[39;00m e:\n\u001b[0;32m--> 122\u001b[0m     \u001b[38;5;28;01mraise\u001b[39;00m e\n\u001b[1;32m    124\u001b[0m \u001b[38;5;28mself\u001b[39m\u001b[38;5;241m.\u001b[39m_retrieved \u001b[38;5;241m=\u001b[39m \u001b[38;5;28;01mTrue\u001b[39;00m\n\u001b[1;32m    125\u001b[0m \u001b[38;5;28;01mreturn\u001b[39;00m \u001b[38;5;28mself\u001b[39m\u001b[38;5;241m.\u001b[39m_result\n",
      "File \u001b[0;32m/Applications/MATLAB/MATLAB_Runtime/R2024b/toolbox/compiler_sdk/pysdk_py/matlab_pysdk/runtime/futureresult.py:111\u001b[0m, in \u001b[0;36mFutureResult.result\u001b[0;34m(self, timeout)\u001b[0m\n\u001b[1;32m    108\u001b[0m         \u001b[38;5;28mself\u001b[39m\u001b[38;5;241m.\u001b[39m_errh\u001b[38;5;241m.\u001b[39mraiseRuntimeError(\u001b[38;5;124m'\u001b[39m\u001b[38;5;124mTimeoutException\u001b[39m\u001b[38;5;124m'\u001b[39m)\n\u001b[1;32m    110\u001b[0m \u001b[38;5;28;01mtry\u001b[39;00m:\n\u001b[0;32m--> 111\u001b[0m     \u001b[38;5;28mself\u001b[39m\u001b[38;5;241m.\u001b[39m_result \u001b[38;5;241m=\u001b[39m \u001b[38;5;28;43mself\u001b[39;49m\u001b[38;5;241;43m.\u001b[39;49m\u001b[43m_cppext_handle\u001b[49m\u001b[38;5;241;43m.\u001b[39;49m\u001b[43mgetFEvalResult\u001b[49m\u001b[43m(\u001b[49m\u001b[38;5;28;43mself\u001b[39;49m\u001b[38;5;241;43m.\u001b[39;49m\u001b[43m_future_tuple\u001b[49m\u001b[43m,\u001b[49m\u001b[43m \u001b[49m\n\u001b[1;32m    112\u001b[0m \u001b[43m                                                  \u001b[49m\u001b[38;5;28;43mself\u001b[39;49m\u001b[38;5;241;43m.\u001b[39;49m\u001b[43m_nlhs\u001b[49m\u001b[43m,\u001b[49m\u001b[43m \u001b[49m\u001b[43mout\u001b[49m\u001b[38;5;241;43m=\u001b[39;49m\u001b[38;5;28;43mself\u001b[39;49m\u001b[38;5;241;43m.\u001b[39;49m\u001b[43m_out\u001b[49m\u001b[43m,\u001b[49m\u001b[43m \u001b[49m\u001b[43merr\u001b[49m\u001b[38;5;241;43m=\u001b[39;49m\u001b[38;5;28;43mself\u001b[39;49m\u001b[38;5;241;43m.\u001b[39;49m\u001b[43m_err\u001b[49m\u001b[43m)\u001b[49m\n\u001b[1;32m    113\u001b[0m \u001b[38;5;28;01mexcept\u001b[39;00m NumberOfOutputArgumentsError \u001b[38;5;28;01mas\u001b[39;00m e:\n\u001b[1;32m    114\u001b[0m     \u001b[38;5;28;01mif\u001b[39;00m \u001b[38;5;28mself\u001b[39m\u001b[38;5;241m.\u001b[39m_nlhsWasSpecified:\n",
      "\u001b[0;31mMatlabRuntimeError\u001b[0m: An error occurred when evaluating the result from a function. Details: \n  File /Users/balbasty/Library/Application Support/MathWorks/MatlabRuntimeCache/R2024b/_spm_a0/_spm/build/spm/spm_dcm_load.m, line 25, in spm_dcm_load\n\n  File /Users/balbasty/Library/Application Support/MathWorks/MatlabRuntimeCache/R2024b/_spm_a0/_spm/external/mpython/mpython_endpoint.m, line 19, in mpython_endpoint\nFile name is empty.\n"
     ]
    }
   ],
   "source": [
    "# Find all DCM files\n",
    "dcms = spm_select('FPListRec', os.path.join(this_dir, '..', 'GLM'), 'DCM_full.mat')\n",
    "\n",
    "# Prepare output directory\n",
    "out_dir = os.path.join(this_dir, '..', 'analyses')\n",
    "os.makedirs(out_dir, exist_ok=True)\n",
    "\n",
    "# Check if it exists\n",
    "if os.path.exists(os.path.join(out_dir, 'GCM_full.mat')):\n",
    "    f = Runtime.call(\n",
    "        'questdlg',\n",
    "        'Overwrite existing GCM?', 'Overwrite?', 'Yes', 'No',\n",
    "        {'Default': 'No', 'Interpreter': 'none'}\n",
    "    )\n",
    "    tf = (f == \"Yes\")\n",
    "else:\n",
    "    tf = True\n",
    "\n",
    "# Collate & estimate\n",
    "if tf:\n",
    "    # Character array -> cell array\n",
    "    # NOTE: In spm-python, `spm_select` already returns a cell array\n",
    "    GCM = dcms\n",
    "\n",
    "    # Filenames -> DCM structures\n",
    "    GCM = spm_dcm_load(GCM)\n",
    "\n",
    "    # Estimate DCMs (this won't effect original DCM files)\n",
    "    GCM = spm_dcm_fit(GCM)\n",
    "\n",
    "    # Save estimated GCM\n",
    "    save(os.path.join(out_dir, 'GCM_full.mat'), {'GCM': GCM})"
   ]
  },
  {
   "cell_type": "markdown",
   "id": "0ce6febd-b38c-4811-8e67-7315a3eb7a10",
   "metadata": {},
   "source": [
    "## Specify 28 alternative models structures"
   ]
  },
  {
   "cell_type": "code",
   "execution_count": null,
   "id": "835658c9-0050-4bce-8267-62f9d08e5da5",
   "metadata": {},
   "outputs": [],
   "source": [
    "#  These will be templates for the group analysis\n",
    "\n",
    "# Define B-matrix for each family (factor: task)\n",
    "# -------------------------------------------------------------------------\n",
    "# Both\n",
    "b_task_fam = Cell()\n",
    "b_task_fam[0][:, :, 1] = np.ones(4)  # Objects\n",
    "b_task_fam[0][:, :, 2] = np.ones(4)  # Words\n",
    "\n",
    "# Words\n",
    "b_task_fam[1][:, :, 1] = np.zeros(4)  # Objects\n",
    "b_task_fam[1][:, :, 2] = np.ones(4)   # Words\n",
    "\n",
    "# Objects\n",
    "b_task_fam[2][:, :, 1] = np.ones(4)   # Objects\n",
    "b_task_fam[2][:, :, 2] = np.zeros(4)  # Words\n",
    "\n",
    "task_fam_names = ['Both', 'Words', 'Objects']\n",
    "\n",
    "# Define B-matrix for each family (factor: dorsal-ventral)\n",
    "# -------------------------------------------------------------------------\n",
    "# Both\n",
    "b_dv_fam = Cell()\n",
    "b_dv_fam[0] = np.eye(4)\n",
    "\n",
    "# Dorsal\n",
    "b_dv_fam[1] = num([[0, 0, 0, 0],\n",
    "                   [0, 1, 0, 0],\n",
    "                   [0, 0, 0, 0],\n",
    "                   [0, 0, 0, 1]])\n",
    "# Ventral\n",
    "b_dv_fam[2] = num([[1, 0, 0, 0],\n",
    "                   [0, 0, 0, 0],\n",
    "                   [0, 0, 1, 0],\n",
    "                   [0, 0, 0, 0]])\n",
    "\n",
    "b_dv_fam_names = ['Both' 'Dorsal' 'Ventral']\n",
    "\n",
    "# Define B-matrix for each family (factor: left-right)\n",
    "# -------------------------------------------------------------------------\n",
    "# Both\n",
    "b_lr_fam = Cell()\n",
    "b_lr_fam[0] = np.eye(4)\n",
    "\n",
    "# Left\n",
    "b_lr_fam[1] = num([[1, 0, 0, 0],\n",
    "                   [0, 1, 0, 0],\n",
    "                   [0, 0, 0, 0],\n",
    "                   [0, 0, 0, 0]])\n",
    "\n",
    "# Right\n",
    "b_lr_fam[2] = num([[0, 0, 0, 0],\n",
    "                   [0, 0, 0, 0],\n",
    "                   [0, 0, 1, 0],\n",
    "                   [0, 0, 0, 1]])\n",
    "\n",
    "b_lr_fam_names = ['Both', 'Left', 'Right']\n",
    "\n",
    "# Make a DCM for each mixture of these factors\n",
    "# -------------------------------------------------------------------------\n",
    "\n",
    "# Load and unpack an example DCM\n",
    "GCM_full = load(os.path.join(out_dir, 'GCM_full.mat'))\n",
    "GCM_full = spm_dcm_load(GCM_full.GCM)\n",
    "DCM_template = GCM_full[0, 0]\n",
    "a = DCM_template.a\n",
    "c = DCM_template.c\n",
    "d = DCM_template.d\n",
    "options = DCM_template.options\n",
    "\n",
    "# Output cell array for new models\n",
    "GCM_templates = Cell()\n",
    "\n",
    "m = 0\n",
    "task_family = Array()\n",
    "b_dv_family = Array()\n",
    "b_lr_family = Array()\n",
    "for t in range(b_task_fam):\n",
    "    for dv in range(b_dv_fam):\n",
    "        for lr in range(b_lr_fam):\n",
    "\n",
    "            # Prepare B-matrix\n",
    "            b = np.zeros([4, 4, 3])\n",
    "            b[:, :, 1:2] = b_dv_fam[dv] & b_lr_fam[lr] & b_task_fam[t]\n",
    "\n",
    "            # Prepare model name\n",
    "            name = print(\n",
    "                'Task: %s, Dorsoventral: %s, Hemi: %s' %\n",
    "                (task_fam_names[t], b_dv_fam_names[dv], b_lr_fam_names[lr])\n",
    "            )\n",
    "\n",
    "            # Build minimal DCM\n",
    "            DCM = Struct()\n",
    "            DCM.a       = a\n",
    "            DCM.b       = b\n",
    "            DCM.c       = c\n",
    "            DCM.d       = d\n",
    "            DCM.options = options\n",
    "            DCM.name    = name\n",
    "            GCM_templates[m] = DCM\n",
    "\n",
    "            # Record the assignment of this model to each family\n",
    "            task_family[m] = t\n",
    "            b_dv_family[m] = dv\n",
    "            b_lr_family[m] = lr\n",
    "            m += 1\n",
    "\n",
    "\n",
    "# Add a null model with no modulation\n",
    "# -------------------------------------------------------------------------\n",
    "b = np.zeros(4)\n",
    "c = num([[1, 0, 0],\n",
    "         [1, 0, 0],\n",
    "         [1, 0, 0],\n",
    "         [1, 0, 0]])\n",
    "name = 'Task: None'\n",
    "\n",
    "DCM = Struct()\n",
    "DCM.b[:, :, 1] = b\n",
    "DCM.b[:, :, 2] = b\n",
    "DCM.c          = c\n",
    "DCM.name       = name\n",
    "\n",
    "GCM_templates[m] = DCM\n",
    "\n",
    "# Record the assignment of this model to each family\n",
    "b_dv_family[m] = len(b_dv_fam)\n",
    "b_lr_family[m] = len(b_lr_fam)\n",
    "task_family[m] = len(b_task_fam)\n",
    "\n",
    "m += 1"
   ]
  },
  {
   "cell_type": "code",
   "execution_count": null,
   "id": "045fa16b-aced-4801-8daf-db6e04c97f83",
   "metadata": {},
   "outputs": [],
   "source": [
    "# Save\n",
    "GCM = GCM_templates\n",
    "save(os.path.join(out_dir, 'GCM_templates.mat'),\n",
    "     {\n",
    "        'GCM': GCM,\n",
    "        'task_family': task_family,\n",
    "        'b_dv_family': b_dv_family,\n",
    "        'b_lr_family': b_lr_family,\n",
    "     }\n",
    ")"
   ]
  },
  {
   "cell_type": "markdown",
   "id": "0d933239-e591-4337-9c09-29ad6bf5b260",
   "metadata": {},
   "source": [
    "## Run diagnostics"
   ]
  },
  {
   "cell_type": "code",
   "execution_count": null,
   "id": "47839492-93ee-420c-96a4-9915b1f44343",
   "metadata": {},
   "outputs": [],
   "source": [
    "GCM = load(os.path.join(out_dir, 'GCM_full.mat')).GCM\n",
    "spm_dcm_fmri_check(GCM)"
   ]
  }
 ],
 "metadata": {
  "kernelspec": {
   "display_name": "spm",
   "language": "python",
   "name": "spm"
  },
  "language_info": {
   "codemirror_mode": {
    "name": "ipython",
    "version": 3
   },
   "file_extension": ".py",
   "mimetype": "text/x-python",
   "name": "python",
   "nbconvert_exporter": "python",
   "pygments_lexer": "ipython3",
   "version": "3.10.16"
  }
 },
 "nbformat": 4,
 "nbformat_minor": 5
}
