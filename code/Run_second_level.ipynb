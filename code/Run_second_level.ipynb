{
 "cells": [
  {
   "cell_type": "markdown",
   "id": "33a8f559-f3c2-4418-b8a7-4675693c369c",
   "metadata": {},
   "source": [
    "# SPM/DCM/PEB - Run second level"
   ]
  },
  {
   "cell_type": "markdown",
   "id": "f85402e3-7ce6-43b2-8b05-3c8be26db7fa",
   "metadata": {},
   "source": [
    "## Import\n",
    "\n",
    "First, let's import the functions we will use from the spm package, and define a couple of\n",
    "wrappers for the save/load MATLAB builtins."
   ]
  },
  {
   "cell_type": "code",
   "execution_count": null,
   "id": "d391d530-35e8-43fb-b94a-1fe86889f61c",
   "metadata": {},
   "outputs": [],
   "source": [
    "import os\n",
    "import shutil\n",
    "from spm import (\n",
    "    Struct,\n",
    "    Runtime,\n",
    "    spm_dcm_peb,\n",
    "    spm_dcm_peb_bmc,\n",
    "    spm_dcm_peb_bmc_fam,\n",
    "    spm_dcm_loo,\n",
    "    spm_dcm_peb_review,\n",
    ")\n",
    "\n",
    "\n",
    "# Save the field of a (scalar) struct in a .mat file\n",
    "def save(f, x): return Runtime.call(\"save\", f, \"-struct\", x)\n",
    "\n",
    "\n",
    "# Load a .mat into a (scalar) struct\n",
    "def load(*a): return Runtime.call(\"load\", *a)"
   ]
  },
  {
   "cell_type": "code",
   "execution_count": null,
   "id": "ee002d6d-f7d8-4bd3-9a3e-346254a40179",
   "metadata": {},
   "outputs": [],
   "source": [
    "this_dir = start_dir = os.getcwd()\n",
    "print(this_dir)"
   ]
  },
  {
   "cell_type": "markdown",
   "id": "120f4f0a-a2da-463b-a203-e48f54d8024f",
   "metadata": {},
   "source": [
    "## Load PEB prerequisites"
   ]
  },
  {
   "cell_type": "code",
   "execution_count": null,
   "id": "df74f856-a5a7-4d8b-96ee-18f14dc2b0ee",
   "metadata": {},
   "outputs": [],
   "source": [
    "# Load design matrix\n",
    "dm = load('../design_matrix.mat')\n",
    "X = dm.X\n",
    "X_labels = dm.labels\n",
    "\n",
    "# Import downloaded GCM file if needed\n",
    "if not os.path.exists('../analyses/GCM_full.mat'):\n",
    "    shutil.copyfile(\n",
    "        '../analyses/GCM_full_pre_estimated.mat',\n",
    "        '../analyses/GCM_full.mat'\n",
    "    )\n",
    "\n",
    "# Load GCM\n",
    "GCM = load('../analyses/GCM_full.mat').GCM\n",
    "\n",
    "# PEB settings\n",
    "M = Struct()\n",
    "M.Q = 'all'\n",
    "M.X = X\n",
    "M.Xnames = X_labels\n",
    "M.maxit = 256"
   ]
  },
  {
   "cell_type": "markdown",
   "id": "d3bced01-9d6c-45b0-9b3b-d3a7ee60da84",
   "metadata": {},
   "source": [
    "## Build PEB (using B parameters)"
   ]
  },
  {
   "cell_type": "code",
   "execution_count": null,
   "id": "12c9bf45-6be7-4917-94e0-aa0d5a5f1e6e",
   "metadata": {},
   "outputs": [],
   "source": [
    "[PEB_B, RCM_B] = spm_dcm_peb(GCM, M, ['B'], nargout=2)\n",
    "save('../analyses/PEB_B.mat', {'PEB_B': PEB_B, 'RCM_B': RCM_B})"
   ]
  },
  {
   "cell_type": "markdown",
   "id": "920160bb-e887-46f5-a2c5-df669bea7ae2",
   "metadata": {},
   "source": [
    "## Automatic search"
   ]
  },
  {
   "cell_type": "code",
   "execution_count": null,
   "id": "68f2e47b-d422-4b0e-9305-e3b4fc3f5236",
   "metadata": {},
   "outputs": [],
   "source": [
    "BMA_B = spm_dcm_peb_bmc(PEB_B)\n",
    "save('../analyses/BMA_search_B.mat', {'BMA_B': BMA_B})"
   ]
  },
  {
   "cell_type": "markdown",
   "id": "c5aa2aff-feaa-4ce6-999c-bd11cf433930",
   "metadata": {},
   "source": [
    "## Hypothesis-based analysis (B)"
   ]
  },
  {
   "cell_type": "code",
   "execution_count": null,
   "id": "a87ed771-f873-4d3c-8a8d-b8646f083693",
   "metadata": {},
   "outputs": [],
   "source": [
    "\n",
    "# Load estimated PEB\n",
    "PEB_B = load('../analyses/PEB_B.mat').PEB_B\n",
    "\n",
    "# Load template models\n",
    "templates = load('../analyses/GCM_templates.mat')\n",
    "\n",
    "# Run model comparison\n",
    "[BMA, BMR] = spm_dcm_peb_bmc(PEB_B, templates.GCM, nargout=2)\n",
    "\n",
    "# Show connections in winning model 4\n",
    "BMA.Kname(BMA.K[3, :] == 1)\n",
    "\n",
    "# Show connections in winning model 15\n",
    "BMA.Kname(BMA.K[14, :] == 1)\n",
    "\n",
    "save('../analyses/BMA_B_28models.mat', {'BMA': BMA, 'BMR': BMR})"
   ]
  },
  {
   "cell_type": "markdown",
   "id": "210e2879-88a9-495a-b4ec-8243323acc04",
   "metadata": {},
   "source": [
    "## Family analysis"
   ]
  },
  {
   "cell_type": "code",
   "execution_count": null,
   "id": "9feea409-2d3c-4377-b2b5-43f3cf8b94e1",
   "metadata": {},
   "outputs": [],
   "source": [
    "# Load the result from the comparison of 28 reduced models\n",
    "_ = load('../analyses/BMA_B_28models.mat')\n",
    "\n",
    "# Compare families\n",
    "[BMA_fam_task, fam_task] = spm_dcm_peb_bmc_fam(BMA, BMR, templates.task_family, 'ALL', nargout=2)\n",
    "\n",
    "[BMA_fam_b_dv, fam_b_dv] = spm_dcm_peb_bmc_fam(BMA, BMR, templates.b_dv_family, 'NONE', nargout=2)\n",
    "\n",
    "[BMA_fam_b_lr, fam_b_lr] = spm_dcm_peb_bmc_fam(BMA, BMR, templates.b_lr_family, 'NONE', nargout=2)\n",
    "\n",
    "save('../analyses/BMA_fam_task.mat', {'BMA_fam_task': BMA_fam_task, 'fam_task': fam_task})\n",
    "save('../analyses/BMA_fam_b_dv.mat', {'BMA_fam_b_dv': BMA_fam_b_dv, 'fam_b_dv': fam_b_dv})\n",
    "save('../analyses/BMA_fam_b_lr.mat', {'BMA_fam_b_lr': BMA_fam_b_lr, 'fam_b_lr': fam_b_lr})"
   ]
  },
  {
   "cell_type": "code",
   "execution_count": null,
   "id": "d17ca73d-45be-4f0f-9774-194dea112fa1",
   "metadata": {},
   "outputs": [],
   "source": [
    "# LOO\n",
    "[qE, qC, Q] = spm_dcm_loo(GCM, M, ['B(4,4,3)'], nargout=3)\n",
    "save('../analyses/LOO_rdF_words.mat', {'qE': qE, 'qC': qC, 'Q': Q})"
   ]
  },
  {
   "cell_type": "code",
   "execution_count": null,
   "id": "ed33861f-77d6-4f33-901f-6a342b6816a9",
   "metadata": {},
   "outputs": [],
   "source": [
    "# Correlate rdF\n",
    "B = [gcm.Ep.B(3, 3, 2) for gcm in GCM]\n",
    "LI = X[:, 1]\n",
    "Runtime.call('figure')\n",
    "Runtime.call('scatter', LI, B)\n",
    "Runtime.call('lsline')\n",
    "[R, P] = Runtime.call('corrcoeff', LI, B, nargout=2)"
   ]
  },
  {
   "cell_type": "code",
   "execution_count": null,
   "id": "cb86cf49-f5ee-4a6b-880f-22e6a94a8935",
   "metadata": {},
   "outputs": [],
   "source": [
    "# Build PEB (A)\n",
    "[PEB_A, RCM_A] = spm_dcm_peb(GCM[:, 0], M, ['A'], nargout=2)\n",
    "save('../analyses/PEB_A.mat', {'PEB_A': PEB_A, 'RCM_A': RCM_A})"
   ]
  },
  {
   "cell_type": "code",
   "execution_count": null,
   "id": "d20718a1-422e-421e-9d22-86aa290a2894",
   "metadata": {},
   "outputs": [],
   "source": [
    "# Search-based analysis (A)\n",
    "PEB_A = load('../analyses/PEB_A.mat').PEB_A\n",
    "BMA_A = spm_dcm_peb_bmc(PEB_A)\n",
    "save('../analyses/BMA_search_A.mat', {'BMA_A': BMA_A})\n",
    "spm_dcm_peb_review(BMA_A, GCM)"
   ]
  }
 ],
 "metadata": {
  "kernelspec": {
   "display_name": "spm",
   "language": "python",
   "name": "spm"
  },
  "language_info": {
   "codemirror_mode": {
    "name": "ipython",
    "version": 3
   },
   "file_extension": ".py",
   "mimetype": "text/x-python",
   "name": "python",
   "nbconvert_exporter": "python",
   "pygments_lexer": "ipython3",
   "version": "3.10.16"
  }
 },
 "nbformat": 4,
 "nbformat_minor": 5
}
